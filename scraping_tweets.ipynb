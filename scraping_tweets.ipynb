{
 "cells": [
  {
   "cell_type": "code",
   "execution_count": 76,
   "metadata": {},
   "outputs": [],
   "source": [
    "from twython import Twython\n",
    "import json\n",
    "import pandas as pd\n",
    "import random"
   ]
  },
  {
   "cell_type": "code",
   "execution_count": 88,
   "metadata": {},
   "outputs": [],
   "source": [
    "# input app key and access toke\n",
    "\n",
    "TWITTER_APP_KEY = 'your app key'\n",
    "TWITTER_APP_KEY_SECRET = 'your app key secret' \n",
    "TWITTER_ACCESS_TOKEN = 'your twitter access token'\n",
    "TWITTER_ACCESS_TOKEN_SECRET = 'your twitter access token secret'\n",
    "\n",
    "t = Twython(app_key=TWITTER_APP_KEY, \n",
    "            app_secret=TWITTER_APP_KEY_SECRET, \n",
    "            oauth_token=TWITTER_ACCESS_TOKEN, \n",
    "            oauth_token_secret=TWITTER_ACCESS_TOKEN_SECRET)"
   ]
  },
  {
   "cell_type": "code",
   "execution_count": 92,
   "metadata": {},
   "outputs": [],
   "source": [
    "# searching with API\n",
    "\n",
    "term = 'cebong kampret'\n",
    "tweet_metadatas = t.search(q=term,count=100,result_type='recent')"
   ]
  },
  {
   "cell_type": "code",
   "execution_count": 93,
   "metadata": {},
   "outputs": [
    {
     "name": "stdout",
     "output_type": "stream",
     "text": [
      "{u'contributors': None, u'truncated': False, u'text': u'RT @Greschinov: Berhentilah memanggil satu sama lain dengan sebutan \"cebong\" dan \"kampret\".\\n\\nPanggilan itu konteksnya sudah sangat peyorati\\u2026', u'is_quote_status': False, u'in_reply_to_status_id': None, u'id': 1055770955794894848L, u'favorite_count': 0, u'entities': {u'symbols': [], u'user_mentions': [{u'id': 59980041, u'indices': [3, 14], u'id_str': u'59980041', u'screen_name': u'Greschinov', u'name': u'erlangga greschinov.'}], u'hashtags': [], u'urls': []}, u'retweeted': False, u'coordinates': None, u'source': u'<a href=\"http://twitter.com/download/android\" rel=\"nofollow\">Twitter for Android</a>', u'in_reply_to_screen_name': None, u'in_reply_to_user_id': None, u'retweet_count': 262, u'id_str': u'1055770955794894848', u'favorited': False, u'retweeted_status': {u'contributors': None, u'truncated': True, u'text': u'Berhentilah memanggil satu sama lain dengan sebutan \"cebong\" dan \"kampret\".\\n\\nPanggilan itu konteksnya sudah sangat\\u2026 https://t.co/zURcuW4Jz8', u'is_quote_status': False, u'in_reply_to_status_id': None, u'id': 1055706134131105792L, u'favorite_count': 283, u'entities': {u'symbols': [], u'user_mentions': [], u'hashtags': [], u'urls': [{u'url': u'https://t.co/zURcuW4Jz8', u'indices': [116, 139], u'expanded_url': u'https://twitter.com/i/web/status/1055706134131105792', u'display_url': u'twitter.com/i/web/status/1\\u2026'}]}, u'retweeted': False, u'coordinates': None, u'source': u'<a href=\"http://twitter.com\" rel=\"nofollow\">Twitter Web Client</a>', u'in_reply_to_screen_name': None, u'in_reply_to_user_id': None, u'retweet_count': 262, u'id_str': u'1055706134131105792', u'favorited': False, u'user': {u'follow_request_sent': False, u'has_extended_profile': True, u'profile_use_background_image': True, u'default_profile_image': False, u'id': 59980041, u'profile_background_image_url_https': u'https://abs.twimg.com/images/themes/theme15/bg.png', u'verified': False, u'translator_type': u'regular', u'profile_text_color': u'333333', u'profile_image_url_https': u'https://pbs.twimg.com/profile_images/679311030699188224/9kroqJIY_normal.png', u'profile_sidebar_fill_color': u'C0DFEC', u'entities': {u'url': {u'urls': [{u'url': u'https://t.co/6uZrQ7qPKM', u'indices': [0, 23], u'expanded_url': u'https://www.instagram.com/greschinov/', u'display_url': u'instagram.com/greschinov/'}]}, u'description': {u'urls': []}}, u'followers_count': 59000, u'profile_sidebar_border_color': u'FFFFFF', u'id_str': u'59980041', u'profile_background_color': u'022330', u'listed_count': 41, u'is_translation_enabled': False, u'utc_offset': None, u'statuses_count': 28279, u'description': u'Editor. Writer. Polyglot. Islamic Intellectual. Engineer. Side-Time Philosopher. Founder of @faktabahasa. Inquiries: greschinov@gmail.com', u'friends_count': 1046, u'location': u'Jakarta, Indonesia', u'profile_link_color': u'19CF86', u'profile_image_url': u'http://pbs.twimg.com/profile_images/679311030699188224/9kroqJIY_normal.png', u'following': False, u'geo_enabled': True, u'profile_banner_url': u'https://pbs.twimg.com/profile_banners/59980041/1526717444', u'profile_background_image_url': u'http://abs.twimg.com/images/themes/theme15/bg.png', u'screen_name': u'Greschinov', u'lang': u'en', u'profile_background_tile': True, u'favourites_count': 71, u'name': u'erlangga greschinov.', u'notifications': False, u'url': u'https://t.co/6uZrQ7qPKM', u'created_at': u'Sat Jul 25 04:29:46 +0000 2009', u'contributors_enabled': False, u'time_zone': None, u'protected': False, u'default_profile': False, u'is_translator': False}, u'geo': None, u'in_reply_to_user_id_str': None, u'lang': u'in', u'created_at': u'Fri Oct 26 06:22:11 +0000 2018', u'in_reply_to_status_id_str': None, u'place': None, u'metadata': {u'iso_language_code': u'in', u'result_type': u'recent'}}, u'user': {u'follow_request_sent': False, u'has_extended_profile': True, u'profile_use_background_image': False, u'default_profile_image': False, u'id': 732150056, u'profile_background_image_url_https': u'https://abs.twimg.com/images/themes/theme1/bg.png', u'verified': False, u'translator_type': u'none', u'profile_text_color': u'333333', u'profile_image_url_https': u'https://pbs.twimg.com/profile_images/1038038405106434059/yfx4X3Av_normal.jpg', u'profile_sidebar_fill_color': u'DDEEF6', u'entities': {u'description': {u'urls': []}}, u'followers_count': 411, u'profile_sidebar_border_color': u'000000', u'id_str': u'732150056', u'profile_background_color': u'F5ABB5', u'listed_count': 3, u'is_translation_enabled': False, u'utc_offset': None, u'statuses_count': 59682, u'description': u'\\u200f\\u200f\\u200f\\u064a\\u0627\\u0645\\u0642\\u0644\\u0628 \\u0627\\u0644\\u0642\\u0644\\u0648\\u0628 \\u062b\\u0628\\u062a \\u0642\\u0644\\u0628\\u064a \\u0639\\u0644\\u0649 \\u062f\\u064a\\u0646\\u0643', u'friends_count': 83, u'location': u'Kudus, Indonesia', u'profile_link_color': u'F5ABB5', u'profile_image_url': u'http://pbs.twimg.com/profile_images/1038038405106434059/yfx4X3Av_normal.jpg', u'following': False, u'geo_enabled': True, u'profile_banner_url': u'https://pbs.twimg.com/profile_banners/732150056/1538240580', u'profile_background_image_url': u'http://abs.twimg.com/images/themes/theme1/bg.png', u'screen_name': u'a_hudayana', u'lang': u'en', u'profile_background_tile': True, u'favourites_count': 384, u'name': u'Aprilia', u'notifications': False, u'url': None, u'created_at': u'Thu Aug 02 04:39:09 +0000 2012', u'contributors_enabled': False, u'time_zone': None, u'protected': False, u'default_profile': False, u'is_translator': False}, u'geo': None, u'in_reply_to_user_id_str': None, u'lang': u'in', u'created_at': u'Fri Oct 26 10:39:45 +0000 2018', u'in_reply_to_status_id_str': None, u'place': None, u'metadata': {u'iso_language_code': u'in', u'result_type': u'recent'}}\n"
     ]
    }
   ],
   "source": [
    "# menampilkan salah satu tweet\n",
    "\n",
    "random_numb = random.randint(0,100)\n",
    "\n",
    "print(tweet_metadatas['statuses'][random_numb])"
   ]
  },
  {
   "cell_type": "code",
   "execution_count": 94,
   "metadata": {},
   "outputs": [
    {
     "name": "stdout",
     "output_type": "stream",
     "text": [
      "RT @Greschinov: Berhentilah memanggil satu sama lain dengan sebutan \"cebong\" dan \"kampret\".\n",
      "\n",
      "Panggilan itu konteksnya sudah sangat peyorati…\n",
      "username: a_hudayana\n",
      "following: 83\n",
      "followers: 411\n"
     ]
    }
   ],
   "source": [
    "# mengambil isi tweet, username dan jumlah following - follower\n",
    "\n",
    "print(tweet_metadatas['statuses'][random_numb]['text'])\n",
    "print('username: %s'%(tweet_metadatas['statuses'][random_numb]['user']['screen_name']))\n",
    "print('following: %s'%(tweet_metadatas['statuses'][random_numb]['user']['friends_count']))\n",
    "print('followers: %s'%(tweet_metadatas['statuses'][random_numb]['user']['followers_count']))"
   ]
  },
  {
   "cell_type": "code",
   "execution_count": 95,
   "metadata": {},
   "outputs": [
    {
     "data": {
      "text/html": [
       "<div>\n",
       "<style scoped>\n",
       "    .dataframe tbody tr th:only-of-type {\n",
       "        vertical-align: middle;\n",
       "    }\n",
       "\n",
       "    .dataframe tbody tr th {\n",
       "        vertical-align: top;\n",
       "    }\n",
       "\n",
       "    .dataframe thead th {\n",
       "        text-align: right;\n",
       "    }\n",
       "</style>\n",
       "<table border=\"1\" class=\"dataframe\">\n",
       "  <thead>\n",
       "    <tr style=\"text-align: right;\">\n",
       "      <th></th>\n",
       "      <th>followers</th>\n",
       "      <th>following</th>\n",
       "      <th>timestamp</th>\n",
       "      <th>tweet</th>\n",
       "      <th>username</th>\n",
       "    </tr>\n",
       "  </thead>\n",
       "  <tbody>\n",
       "    <tr>\n",
       "      <th>0</th>\n",
       "      <td>1</td>\n",
       "      <td>5</td>\n",
       "      <td>Fri Oct 26 13:12:27 +0000 2018</td>\n",
       "      <td>@Jeff_yanangi @RadioElshinta Daripada Cebong k...</td>\n",
       "      <td>SyikTgk</td>\n",
       "    </tr>\n",
       "    <tr>\n",
       "      <th>1</th>\n",
       "      <td>1</td>\n",
       "      <td>5</td>\n",
       "      <td>Fri Oct 26 13:09:36 +0000 2018</td>\n",
       "      <td>@Andre_wow26 @RadioElshinta Hai BANGSAT CEBONG...</td>\n",
       "      <td>SyikTgk</td>\n",
       "    </tr>\n",
       "    <tr>\n",
       "      <th>2</th>\n",
       "      <td>129</td>\n",
       "      <td>153</td>\n",
       "      <td>Fri Oct 26 13:01:50 +0000 2018</td>\n",
       "      <td>RT @Greschinov: Berhentilah memanggil satu sam...</td>\n",
       "      <td>strwxbrryxlvr</td>\n",
       "    </tr>\n",
       "    <tr>\n",
       "      <th>3</th>\n",
       "      <td>1196</td>\n",
       "      <td>1032</td>\n",
       "      <td>Fri Oct 26 13:00:51 +0000 2018</td>\n",
       "      <td>RT @Greschinov: Berhentilah memanggil satu sam...</td>\n",
       "      <td>tehmanisssss</td>\n",
       "    </tr>\n",
       "    <tr>\n",
       "      <th>4</th>\n",
       "      <td>508</td>\n",
       "      <td>529</td>\n",
       "      <td>Fri Oct 26 12:58:41 +0000 2018</td>\n",
       "      <td>RT @Greschinov: Berhentilah memanggil satu sam...</td>\n",
       "      <td>chickenmiee</td>\n",
       "    </tr>\n",
       "    <tr>\n",
       "      <th>5</th>\n",
       "      <td>3409</td>\n",
       "      <td>65</td>\n",
       "      <td>Fri Oct 26 12:51:05 +0000 2018</td>\n",
       "      <td>Satu kata buat pembuat hestek ini👇 #PrabowoBe...</td>\n",
       "      <td>NurChyaAquarius</td>\n",
       "    </tr>\n",
       "    <tr>\n",
       "      <th>6</th>\n",
       "      <td>332</td>\n",
       "      <td>224</td>\n",
       "      <td>Fri Oct 26 12:49:29 +0000 2018</td>\n",
       "      <td>RT @Greschinov: Berhentilah memanggil satu sam...</td>\n",
       "      <td>annisanarulita</td>\n",
       "    </tr>\n",
       "    <tr>\n",
       "      <th>7</th>\n",
       "      <td>14</td>\n",
       "      <td>67</td>\n",
       "      <td>Fri Oct 26 12:49:20 +0000 2018</td>\n",
       "      <td>@laskar_cebong @VIVAcoid Kampret sarap</td>\n",
       "      <td>oscar_osram</td>\n",
       "    </tr>\n",
       "    <tr>\n",
       "      <th>8</th>\n",
       "      <td>108</td>\n",
       "      <td>358</td>\n",
       "      <td>Fri Oct 26 12:45:40 +0000 2018</td>\n",
       "      <td>frickin cebong and kampret having a love baby ...</td>\n",
       "      <td>notDHH</td>\n",
       "    </tr>\n",
       "    <tr>\n",
       "      <th>9</th>\n",
       "      <td>545</td>\n",
       "      <td>611</td>\n",
       "      <td>Fri Oct 26 12:44:23 +0000 2018</td>\n",
       "      <td>@nemosyus @sugi_0706 Nggak sabar lihat cebong ...</td>\n",
       "      <td>wijaya_karenina</td>\n",
       "    </tr>\n",
       "  </tbody>\n",
       "</table>\n",
       "</div>"
      ],
      "text/plain": [
       "   followers  following                       timestamp  \\\n",
       "0          1          5  Fri Oct 26 13:12:27 +0000 2018   \n",
       "1          1          5  Fri Oct 26 13:09:36 +0000 2018   \n",
       "2        129        153  Fri Oct 26 13:01:50 +0000 2018   \n",
       "3       1196       1032  Fri Oct 26 13:00:51 +0000 2018   \n",
       "4        508        529  Fri Oct 26 12:58:41 +0000 2018   \n",
       "5       3409         65  Fri Oct 26 12:51:05 +0000 2018   \n",
       "6        332        224  Fri Oct 26 12:49:29 +0000 2018   \n",
       "7         14         67  Fri Oct 26 12:49:20 +0000 2018   \n",
       "8        108        358  Fri Oct 26 12:45:40 +0000 2018   \n",
       "9        545        611  Fri Oct 26 12:44:23 +0000 2018   \n",
       "\n",
       "                                               tweet         username  \n",
       "0  @Jeff_yanangi @RadioElshinta Daripada Cebong k...          SyikTgk  \n",
       "1  @Andre_wow26 @RadioElshinta Hai BANGSAT CEBONG...          SyikTgk  \n",
       "2  RT @Greschinov: Berhentilah memanggil satu sam...    strwxbrryxlvr  \n",
       "3  RT @Greschinov: Berhentilah memanggil satu sam...     tehmanisssss  \n",
       "4  RT @Greschinov: Berhentilah memanggil satu sam...      chickenmiee  \n",
       "5  Satu kata buat pembuat hestek ini👇 #PrabowoBe...  NurChyaAquarius  \n",
       "6  RT @Greschinov: Berhentilah memanggil satu sam...   annisanarulita  \n",
       "7             @laskar_cebong @VIVAcoid Kampret sarap      oscar_osram  \n",
       "8  frickin cebong and kampret having a love baby ...           notDHH  \n",
       "9  @nemosyus @sugi_0706 Nggak sabar lihat cebong ...  wijaya_karenina  "
      ]
     },
     "execution_count": 95,
     "metadata": {},
     "output_type": "execute_result"
    }
   ],
   "source": [
    "# memasukkan data ke dalam lis of dictionary\n",
    "\n",
    "tweet_list = []\n",
    "\n",
    "for i in tweet_metadatas['statuses']:\n",
    "    meta = dict()\n",
    "    meta['tweet'] = i['text']\n",
    "    meta['timestamp'] = i['created_at']\n",
    "    meta['username'] = i['user']['screen_name']\n",
    "    meta['following'] = i['user']['friends_count']\n",
    "    meta['followers'] = i['user']['followers_count']\n",
    "    \n",
    "    tweet_list.append(meta)\n",
    "\n",
    "data = pd.DataFrame(tweet_list)\n",
    "data.head(10)"
   ]
  },
  {
   "cell_type": "code",
   "execution_count": 96,
   "metadata": {},
   "outputs": [],
   "source": [
    "# menyimpan dalam xlsx\n",
    "\n",
    "writer = pd.ExcelWriter('result.xlsx')\n",
    "data.to_excel(writer,'Sheet1',index=False)\n",
    "writer.save()"
   ]
  },
  {
   "cell_type": "code",
   "execution_count": null,
   "metadata": {},
   "outputs": [],
   "source": []
  }
 ],
 "metadata": {
  "kernelspec": {
   "display_name": "Python 2",
   "language": "python",
   "name": "python2"
  },
  "language_info": {
   "codemirror_mode": {
    "name": "ipython",
    "version": 2
   },
   "file_extension": ".py",
   "mimetype": "text/x-python",
   "name": "python",
   "nbconvert_exporter": "python",
   "pygments_lexer": "ipython2",
   "version": "2.7.14"
  }
 },
 "nbformat": 4,
 "nbformat_minor": 2
}
