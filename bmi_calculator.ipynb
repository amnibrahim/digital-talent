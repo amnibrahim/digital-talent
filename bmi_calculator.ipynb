{
 "cells": [
  {
   "cell_type": "code",
   "execution_count": 12,
   "metadata": {},
   "outputs": [
    {
     "name": "stdout",
     "output_type": "stream",
     "text": [
      "('bmi', 22.20408163265306)\n",
      "Normal (healthy weight)\n"
     ]
    }
   ],
   "source": [
    "weight = 68\n",
    "height = 175\n",
    "\n",
    "bmi = weight / (height / 100.0)**2\n",
    "print(\"bmi\",bmi)\n",
    "\n",
    "if bmi < 15:\n",
    "    print(\"Very severely underweight\")\n",
    "elif 15 <= bmi < 16:\n",
    "    print(\"Severely underweigh\")\n",
    "elif 16 <= bmi < 18.5:\n",
    "    print(\"Underweight\")\n",
    "elif 18.5 <= bmi < 25:\n",
    "    print(\"Normal (healthy weight)\")\n",
    "elif 25 <= bmi < 30:\n",
    "    print(\"Overweight\")\n",
    "elif 30 <= bmi < 35:\n",
    "    print(\"Moderately obese\")\n",
    "elif 35 <= bmi < 40:\n",
    "    print(\"Severely obese\")\n",
    "else:\n",
    "    print(\"Very severely obese\")"
   ]
  },
  {
   "cell_type": "code",
   "execution_count": null,
   "metadata": {},
   "outputs": [],
   "source": []
  }
 ],
 "metadata": {
  "kernelspec": {
   "display_name": "Python 2",
   "language": "python",
   "name": "python2"
  },
  "language_info": {
   "codemirror_mode": {
    "name": "ipython",
    "version": 2
   },
   "file_extension": ".py",
   "mimetype": "text/x-python",
   "name": "python",
   "nbconvert_exporter": "python",
   "pygments_lexer": "ipython2",
   "version": "2.7.14"
  }
 },
 "nbformat": 4,
 "nbformat_minor": 2
}
